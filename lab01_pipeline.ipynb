{
  "nbformat": 4,
  "nbformat_minor": 0,
  "metadata": {
    "colab": {
      "provenance": []
    },
    "kernelspec": {
      "name": "python3",
      "display_name": "Python 3"
    },
    "language_info": {
      "name": "python"
    }
  },
  "cells": [
    {
      "cell_type": "markdown",
      "source": [
        "# **Laboratorio 01**"
      ],
      "metadata": {
        "id": "fyl-_uCzXI1H"
      }
    },
    {
      "cell_type": "markdown",
      "source": [
        "- **a.** Crea un programa para generar un archivo de tipo texto plano o CSV con más de 1 millón de registros (cualquier lenguaje de programación y sistema operativo). La estructura del archivo debe ser:\n",
        "  - **(AP, Nom, edad, sexo, peso, talla, color, prov, EscuelaProfesional, fecha_ingreso_U).**\n",
        "\n",
        "- **b.** Crear un programa pipeline que permita:\n",
        "  - **i.** La cantidad de varones y mujeres.\n",
        "  - **ii.** Contar cuántos alumnos hay por cada Escuela Profesional.\n",
        "  - **iii.** El promedio de edad.\n",
        "  - **iv.** Cuántas personas ingresaron."
      ],
      "metadata": {
        "id": "T5swTE7MXO3w"
      }
    },
    {
      "cell_type": "markdown",
      "source": [
        "## **1. Crear data**"
      ],
      "metadata": {
        "id": "ErN97S53GJ3T"
      }
    },
    {
      "cell_type": "markdown",
      "source": [
        "Crear data de alumnos con 1 000 0000 registros en archivo csv según formato especificado."
      ],
      "metadata": {
        "id": "IbTgBlUnFg9M"
      }
    },
    {
      "cell_type": "code",
      "source": [
        "import random\n",
        "import string\n",
        "from datetime import datetime, timedelta\n",
        "\n",
        "#Genera string\n",
        "def getrandomstring(length):\n",
        "  letters = string.ascii_uppercase\n",
        "  result_str = ''.join(random.choice(letters) for i in range(length))\n",
        "  return result_str\n",
        "\n",
        "#Genera int\n",
        "def generate_random_int(start, end):\n",
        "  return random.randint(start, end)\n",
        "\n",
        "#Genera float\n",
        "def generate_random_float(start, end):\n",
        "  return round(random.uniform(start, end), 2)\n",
        "\n",
        "#Genera fecha\n",
        "def generate_random_date(start_year, end_year):\n",
        "    start_date = datetime(start_year, 1, 1)\n",
        "    end_date = datetime(end_year, 12, 31)\n",
        "    delta_days = (end_date - start_date).days\n",
        "    random_days = random.randint(0, delta_days)\n",
        "    random_date = start_date + timedelta(days=random_days)\n",
        "    return random_date.strftime(\"%Y-%m-%d\")\n",
        "\n",
        "#Genera nombre\n",
        "def generate_name(number, lenght):\n",
        "  for i in range(number):\n",
        "    return (getrandomstring(lenght))\n",
        "\n",
        "#Genera provincia\n",
        "def generate_province(number):\n",
        "  if (number == 1):\n",
        "    return \"Abancay\"\n",
        "  elif (number == 2):\n",
        "    return \"Andahuaylas\"\n",
        "  elif (number == 3):\n",
        "    return \"Antabamba\"\n",
        "  elif (number == 4):\n",
        "    return \"Aymaraes\"\n",
        "  elif (number == 5):\n",
        "    return \"Grau\"\n",
        "  elif (number == 6):\n",
        "    return \"Cotabambas\"\n",
        "  elif (number == 7):\n",
        "    return \"Chincheros\"\n",
        "  else:\n",
        "    return \"sin provincia\"\n",
        "\n",
        "#Genera color\n",
        "def generate_color(number):\n",
        "  if (number == 1):\n",
        "    return \"Negro\"\n",
        "  elif (number == 2):\n",
        "    return \"Blanco\"\n",
        "  elif (number == 3):\n",
        "    return \"Azul\"\n",
        "  elif (number == 4):\n",
        "    return \"Amarillo\"\n",
        "  elif (number == 5):\n",
        "    return \"Rojo\"\n",
        "  elif (number == 6):\n",
        "    return \"Verde\"\n",
        "  elif (number == 7):\n",
        "    return \"Naranja\"\n",
        "  else:\n",
        "    return \"sin Color\"\n",
        "\n",
        "# Genera escuelas profesionales\n",
        "def generate_professional_school(number):\n",
        "  if (number == 1):\n",
        "    return \"Ingeniería de Software\"\n",
        "  elif (number == 2):\n",
        "    return \"Medicina\"\n",
        "  elif (number == 3):\n",
        "    return \"Derecho\"\n",
        "  elif (number == 4):\n",
        "    return \"Arquitectura\"\n",
        "  elif (number == 5):\n",
        "    return \"Psicología\"\n",
        "  elif (number == 6):\n",
        "    return \"Contabilidad\"\n",
        "  elif (number == 7):\n",
        "    return \"Economía\"\n",
        "  else:\n",
        "    return \"sin escuela\"\n",
        "\n",
        "#Genera registro en csv según formato especificado\n",
        "def writeAluCSVfile(i):\n",
        "  f = open(\"alumno1M.csv\", \"a\")\n",
        "  #(AP,Nom,edad,sexo,peso,talla,color,prov); 1:M 2=F\n",
        "  f.write(\n",
        "      str(i) + \",\" +\n",
        "      \"Apellidos \" + str(i) + \" \" + generate_name(1, generate_random_int(6, 20)) + \",\" +\n",
        "      \"Nombres \" + str(i) + \" \" + generate_name(1, generate_random_int(6, 20)) + \",\" +\n",
        "      str(generate_random_int(18, 80)) + \",\" +\n",
        "      str(generate_random_int(1, 2)) + \",\" +\n",
        "      str(generate_random_int(30, 120)) + \",\" +\n",
        "      str(generate_random_float(1.1, 2.4)) + \",\" +\n",
        "      generate_color(generate_random_int(1, 7)) + \",\" +\n",
        "      generate_province(generate_random_int(1, 7)) + \",\" +\n",
        "      generate_professional_school(generate_random_int(1, 7)) + \",\" +\n",
        "      generate_random_date(2000, 2025) + \"\\n\"\n",
        "  )\n",
        "  f.close()\n",
        "\n",
        "#Genera csv según registros especificado\n",
        "def write_longdataAlu(number):\n",
        "  for i in range(1, number + 1):\n",
        "    writeAluCSVfile(str(i))\n",
        "  print(\"written...\")\n",
        "\n",
        "#Ejecuta creación de csv con 1000000 de registros\n",
        "write_longdataAlu(1000000)"
      ],
      "metadata": {
        "colab": {
          "base_uri": "https://localhost:8080/"
        },
        "id": "BnB0n2qrFfcr",
        "outputId": "275b1342-0b95-4990-f0d7-a05de0a0f0ac"
      },
      "execution_count": 25,
      "outputs": [
        {
          "output_type": "stream",
          "name": "stdout",
          "text": [
            "written...\n"
          ]
        }
      ]
    },
    {
      "cell_type": "markdown",
      "source": [
        "## **2. Crear pipeline**"
      ],
      "metadata": {
        "id": "idaASkdIGvjU"
      }
    },
    {
      "cell_type": "markdown",
      "source": [
        "Crea archivo shell con pipeline que genere resultados especificados sobre data de alumnos."
      ],
      "metadata": {
        "id": "-FpJ0yo9CLP7"
      }
    },
    {
      "cell_type": "code",
      "execution_count": 26,
      "metadata": {
        "colab": {
          "base_uri": "https://localhost:8080/"
        },
        "id": "uGhJ65wI7MUN",
        "outputId": "b2001057-ccea-46cb-8c1b-e1c946f15702"
      },
      "outputs": [
        {
          "output_type": "stream",
          "name": "stderr",
          "text": [
            "bash: line 66: warning: here-document at line 1 delimited by end-of-file (wanted `EOF')\n"
          ]
        }
      ],
      "source": [
        "%%bash\n",
        "cat > contar.sh << 'EOF'\n",
        "#!/bin/bash\n",
        "\n",
        "archivo=$1\n",
        "\n",
        "# Inicializa variables\n",
        "varones=0\n",
        "mujeres=0\n",
        "declare -A escuelas\n",
        "total_edad=0\n",
        "contador_edad=0\n",
        "ingresos_desde_2021=0\n",
        "\n",
        "# Funciones contadoras\n",
        "contar_sexo() {\n",
        "  if [ \"$1\" -eq 1 ]; then\n",
        "    varones=$((varones + 1))\n",
        "  elif [ \"$1\" -eq 2 ]; then\n",
        "    mujeres=$((mujeres + 1))\n",
        "  fi\n",
        "}\n",
        "contar_escuela() {\n",
        "  escuelas[\"$1\"]=$((escuelas[\"$1\"] + 1))\n",
        "}\n",
        "contar_y_sumar_edad() {\n",
        "  total_edad=$((total_edad + $1))\n",
        "  contador_edad=$((contador_edad + 1))\n",
        "}\n",
        "contar_ingresos_desde_2021() {\n",
        "  if [[ \"$1\" > \"2021-01-01\" ]]; then\n",
        "    ingresos_desde_2021=$((ingresos_desde_2021 + 1))\n",
        "  fi\n",
        "}\n",
        "calcular_promedio_edad() {\n",
        "  if [ \"$contador_edad\" -gt 0 ]; then\n",
        "    promedio_edad=$((total_edad / contador_edad))\n",
        "  else\n",
        "    promedio_edad=0\n",
        "  fi\n",
        "}\n",
        "\n",
        "# Procesa el archivo línea por línea\n",
        "while IFS=, read -r id apellidos nombres edad sexo peso talla color provincia escuela fecha_ingreso\n",
        "do\n",
        "  contar_sexo \"$sexo\"\n",
        "  contar_escuela \"$escuela\"\n",
        "  contar_y_sumar_edad \"$edad\"\n",
        "  contar_ingresos_desde_2021 \"$fecha_ingreso\"\n",
        "done < \"$archivo\"\n",
        "\n",
        "# Calcula el promedio de edad\n",
        "calcular_promedio_edad\n",
        "\n",
        "# Muestra resultados\n",
        "echo \"Ejemplo de pipeline para contar datos de alumnos\"\n",
        "echo \"------------------------------------------------\"\n",
        "echo \"Cantidad de varones: $varones\"\n",
        "echo \"Cantidad de mujeres: $mujeres\"\n",
        "echo \"Promedio de edad: $promedio_edad\"\n",
        "echo \"Cantidad de personas que ingresaron desde 2021-01-01: $ingresos_desde_2021\"\n",
        "echo \"Cantidad de alumnos por cada Escuela Profesional:\"\n",
        "for escuela in \"${!escuelas[@]}\"\n",
        "do\n",
        "  echo \"$escuela: ${escuelas[$escuela]}\"\n",
        "done\n",
        "echo \"Fin del pipeline!\""
      ]
    },
    {
      "cell_type": "markdown",
      "source": [
        "Agrega permisos de ejecución de archivo shell."
      ],
      "metadata": {
        "id": "EewadZNYCK0C"
      }
    },
    {
      "cell_type": "code",
      "source": [
        "%%bash\n",
        "chmod +x contar.sh"
      ],
      "metadata": {
        "id": "KGFf11jSCyvs"
      },
      "execution_count": 27,
      "outputs": []
    },
    {
      "cell_type": "markdown",
      "source": [
        "## **3. Ejecución**"
      ],
      "metadata": {
        "id": "dzYi6apgCKQn"
      }
    },
    {
      "cell_type": "markdown",
      "source": [
        "Ejecuta archivo shell (pipeline) sobre data."
      ],
      "metadata": {
        "id": "KFODeU7ZI4RO"
      }
    },
    {
      "cell_type": "code",
      "source": [
        "%%bash\n",
        "./contar.sh alumno1M.csv"
      ],
      "metadata": {
        "colab": {
          "base_uri": "https://localhost:8080/"
        },
        "id": "q_p8rfCfIDOV",
        "outputId": "b498d573-ca29-4e8c-b3bc-8cc2373fedd6"
      },
      "execution_count": 28,
      "outputs": [
        {
          "output_type": "stream",
          "name": "stdout",
          "text": [
            "Process is interrupted.\n"
          ]
        }
      ]
    }
  ]
}